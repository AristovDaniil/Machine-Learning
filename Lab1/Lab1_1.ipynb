{
  "nbformat": 4,
  "nbformat_minor": 0,
  "metadata": {
    "colab": {
      "provenance": []
    },
    "kernelspec": {
      "name": "python3",
      "display_name": "Python 3"
    },
    "language_info": {
      "name": "python"
    }
  },
  "cells": [
    {
      "cell_type": "code",
      "execution_count": null,
      "metadata": {
        "colab": {
          "base_uri": "https://localhost:8080/"
        },
        "id": "v3FYkColpyy7",
        "outputId": "2067bb69-2ad6-4b13-d9dc-b370c9bfeecc"
      },
      "outputs": [
        {
          "output_type": "stream",
          "name": "stdout",
          "text": [
            "Requirement already satisfied: gym in /usr/local/lib/python3.10/dist-packages (0.25.2)\n",
            "Requirement already satisfied: numpy>=1.18.0 in /usr/local/lib/python3.10/dist-packages (from gym) (1.26.4)\n",
            "Requirement already satisfied: cloudpickle>=1.2.0 in /usr/local/lib/python3.10/dist-packages (from gym) (3.1.0)\n",
            "Requirement already satisfied: gym_notices>=0.0.4 in /usr/local/lib/python3.10/dist-packages (from gym) (0.0.8)\n"
          ]
        }
      ],
      "source": [
        "!pip install gym"
      ]
    },
    {
      "cell_type": "code",
      "source": [
        "import gym\n",
        "from IPython.display import clear_output\n",
        "import time"
      ],
      "metadata": {
        "id": "xUQ7K6xhqMiV"
      },
      "execution_count": null,
      "outputs": []
    },
    {
      "cell_type": "code",
      "source": [
        "# Создаем среду Taxi-v3\n",
        "env = gym.make(\"Taxi-v3\", render_mode=\"ansi\")  # Текстовый рендер"
      ],
      "metadata": {
        "id": "QS49Pupbq7C2"
      },
      "execution_count": null,
      "outputs": []
    },
    {
      "cell_type": "code",
      "source": [
        "# Проверка версии Gym\n",
        "gym_version = tuple(map(int, gym.__version__.split(\".\")))"
      ],
      "metadata": {
        "id": "vWLkLUN-rQQH"
      },
      "execution_count": null,
      "outputs": []
    },
    {
      "cell_type": "code",
      "source": [
        "# Инициализация среды\n",
        "if gym_version >= (0, 26):\n",
        "    state, info = env.reset()  # В новой версии возвращается кортеж\n",
        "else:\n",
        "    state = env.reset()  # В старой версии возвращается только state"
      ],
      "metadata": {
        "id": "rL-jfzvurQ7G"
      },
      "execution_count": null,
      "outputs": []
    },
    {
      "cell_type": "code",
      "source": [
        "# Выполнение 10 случайных действий\n",
        "print(\"=== НАЧАЛО ЭПИЗОДА ===\")\n",
        "for step in range(10):\n",
        "    action = env.action_space.sample()  # Случайное действие\n",
        "    next_state, reward, done, info = env.step(action)  # Выполняем действие\n",
        "\n",
        "    # Отображение данных\n",
        "    print(f\"=== Шаг: {step + 1} ===\")\n",
        "    print(f\"Код состояния: {state}\")\n",
        "    print(f\"Выполненное действие (код): {action}\")\n",
        "    print(f\"Вознаграждение: {reward}\")\n",
        "    print(\"Кадр среды:\")\n",
        "    print(env.render())  # Отображение среды в текстовом виде\n",
        "    print(\"=======================\")\n",
        "\n",
        "    # Обновление состояния\n",
        "    state = next_state\n",
        "\n",
        "    # Завершение эпизода\n",
        "    if done:\n",
        "        print(\"Эпизод завершен!\")\n",
        "        break\n",
        "    time.sleep(1)  # Пауза для читаемости вывода\n",
        "  # Закрытие среды\n",
        "env.close()"
      ],
      "metadata": {
        "colab": {
          "base_uri": "https://localhost:8080/"
        },
        "id": "kJO6R7V6q9RL",
        "outputId": "026b9bd9-844b-4851-8812-933039c3517c"
      },
      "execution_count": null,
      "outputs": [
        {
          "output_type": "stream",
          "name": "stdout",
          "text": [
            "=== НАЧАЛО ЭПИЗОДА ===\n",
            "=== Шаг: 1 ===\n",
            "Код состояния: 262\n",
            "Выполненное действие (код): 3\n",
            "Вознаграждение: -1\n",
            "Кадр среды:\n",
            "['+---------+\\n|\\x1b[34;1mR\\x1b[0m: | : :G|\\n| : | : : |\\n| : : :\\x1b[43m \\x1b[0m: |\\n| | : | : |\\n|\\x1b[35mY\\x1b[0m| : |B: |\\n+---------+\\n\\n', '+---------+\\n|\\x1b[34;1mR\\x1b[0m: | : :G|\\n| : | : : |\\n| : :\\x1b[43m \\x1b[0m: : |\\n| | : | : |\\n|\\x1b[35mY\\x1b[0m| : |B: |\\n+---------+\\n  (West)\\n']\n",
            "=======================\n",
            "=== Шаг: 2 ===\n",
            "Код состояния: 242\n",
            "Выполненное действие (код): 1\n",
            "Вознаграждение: -1\n",
            "Кадр среды:\n",
            "['+---------+\\n|\\x1b[34;1mR\\x1b[0m: | : :G|\\n| : |\\x1b[43m \\x1b[0m: : |\\n| : : : : |\\n| | : | : |\\n|\\x1b[35mY\\x1b[0m| : |B: |\\n+---------+\\n  (North)\\n']\n",
            "=======================\n",
            "=== Шаг: 3 ===\n",
            "Код состояния: 142\n",
            "Выполненное действие (код): 5\n",
            "Вознаграждение: -10\n",
            "Кадр среды:\n",
            "['+---------+\\n|\\x1b[34;1mR\\x1b[0m: | : :G|\\n| : |\\x1b[43m \\x1b[0m: : |\\n| : : : : |\\n| | : | : |\\n|\\x1b[35mY\\x1b[0m| : |B: |\\n+---------+\\n  (Dropoff)\\n']\n",
            "=======================\n",
            "=== Шаг: 4 ===\n",
            "Код состояния: 142\n",
            "Выполненное действие (код): 1\n",
            "Вознаграждение: -1\n",
            "Кадр среды:\n",
            "['+---------+\\n|\\x1b[34;1mR\\x1b[0m: |\\x1b[43m \\x1b[0m: :G|\\n| : | : : |\\n| : : : : |\\n| | : | : |\\n|\\x1b[35mY\\x1b[0m| : |B: |\\n+---------+\\n  (North)\\n']\n",
            "=======================\n",
            "=== Шаг: 5 ===\n",
            "Код состояния: 42\n",
            "Выполненное действие (код): 4\n",
            "Вознаграждение: -10\n",
            "Кадр среды:\n",
            "['+---------+\\n|\\x1b[34;1mR\\x1b[0m: |\\x1b[43m \\x1b[0m: :G|\\n| : | : : |\\n| : : : : |\\n| | : | : |\\n|\\x1b[35mY\\x1b[0m| : |B: |\\n+---------+\\n  (Pickup)\\n']\n",
            "=======================\n",
            "=== Шаг: 6 ===\n",
            "Код состояния: 42\n",
            "Выполненное действие (код): 4\n",
            "Вознаграждение: -10\n",
            "Кадр среды:\n",
            "['+---------+\\n|\\x1b[34;1mR\\x1b[0m: |\\x1b[43m \\x1b[0m: :G|\\n| : | : : |\\n| : : : : |\\n| | : | : |\\n|\\x1b[35mY\\x1b[0m| : |B: |\\n+---------+\\n  (Pickup)\\n']\n",
            "=======================\n",
            "=== Шаг: 7 ===\n",
            "Код состояния: 42\n",
            "Выполненное действие (код): 2\n",
            "Вознаграждение: -1\n",
            "Кадр среды:\n",
            "['+---------+\\n|\\x1b[34;1mR\\x1b[0m: | :\\x1b[43m \\x1b[0m:G|\\n| : | : : |\\n| : : : : |\\n| | : | : |\\n|\\x1b[35mY\\x1b[0m| : |B: |\\n+---------+\\n  (East)\\n']\n",
            "=======================\n",
            "=== Шаг: 8 ===\n",
            "Код состояния: 62\n",
            "Выполненное действие (код): 2\n",
            "Вознаграждение: -1\n",
            "Кадр среды:\n",
            "['+---------+\\n|\\x1b[34;1mR\\x1b[0m: | : :\\x1b[43mG\\x1b[0m|\\n| : | : : |\\n| : : : : |\\n| | : | : |\\n|\\x1b[35mY\\x1b[0m| : |B: |\\n+---------+\\n  (East)\\n']\n",
            "=======================\n",
            "=== Шаг: 9 ===\n",
            "Код состояния: 82\n",
            "Выполненное действие (код): 2\n",
            "Вознаграждение: -1\n",
            "Кадр среды:\n",
            "['+---------+\\n|\\x1b[34;1mR\\x1b[0m: | : :\\x1b[43mG\\x1b[0m|\\n| : | : : |\\n| : : : : |\\n| | : | : |\\n|\\x1b[35mY\\x1b[0m| : |B: |\\n+---------+\\n  (East)\\n']\n",
            "=======================\n",
            "=== Шаг: 10 ===\n",
            "Код состояния: 82\n",
            "Выполненное действие (код): 5\n",
            "Вознаграждение: -10\n",
            "Кадр среды:\n",
            "['+---------+\\n|\\x1b[34;1mR\\x1b[0m: | : :\\x1b[43mG\\x1b[0m|\\n| : | : : |\\n| : : : : |\\n| | : | : |\\n|\\x1b[35mY\\x1b[0m| : |B: |\\n+---------+\\n  (Dropoff)\\n']\n",
            "=======================\n"
          ]
        }
      ]
    }
  ]
}